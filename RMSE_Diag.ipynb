{
 "cells": [
  {
   "cell_type": "markdown",
   "id": "a0a54bf1-782c-422d-a0cb-71e3b4b2f302",
   "metadata": {},
   "source": [
    "# RMSE Diagnostics"
   ]
  },
  {
   "cell_type": "code",
   "execution_count": 2,
   "id": "3f9b8d15-e627-46ba-9d09-358ea9ecdfcb",
   "metadata": {},
   "outputs": [],
   "source": [
    "import numpy as np\n",
    "import matplotlib as mpl\n",
    "import matplotlib.pyplot as plt\n",
    "import xarray as xr\n",
    "import pickle\n",
    "\n",
    "from sklearn.metrics import mean_squared_error "
   ]
  },
  {
   "cell_type": "code",
   "execution_count": 3,
   "id": "1828927b-d205-49fe-9ad8-c2c636081b08",
   "metadata": {},
   "outputs": [],
   "source": [
    "with open('experiment_hi.p', 'rb') as fp:\n",
    "     hi = pickle.load(fp)"
   ]
  },
  {
   "cell_type": "code",
   "execution_count": 1,
   "id": "035986b8-fd66-4bde-b9dd-29555921411d",
   "metadata": {},
   "outputs": [],
   "source": [
    "cases = ['MAT2',\n",
    "         'MAT_05',\n",
    "         'MAT_11',\n",
    "         'MAT_unperturbed',\n",
    "         'MAT_25',\n",
    "         'MAT_26',\n",
    "         'MAT_28',\n",
    "         'MAT_vol_05',\n",
    "         'MAT_vol_11',\n",
    "         'MAT_vol_noerr',\n",
    "         'MAT_vol_25',\n",
    "         'MAT_vol_26',\n",
    "         'MAT_vol_28',\n",
    " \n",
    "         \n",
    "         'ITD10_err15',\n",
    "         'ITD_05',\n",
    "         'ITD_11',\n",
    "         'ITD_unperturbed',\n",
    "         'ITD_25',\n",
    "         'ITD_26',\n",
    "         'ITD_28',\n",
    "]\n",
    "\n",
    "truths = ['TRUTH_05',\n",
    "          'TRUTH_11',\n",
    "          'TRUTH_25',\n",
    "          'TRUTH_26',\n",
    "          'TRUTH_28',\n",
    "          \n",
    "          'TRUTH_05',\n",
    "          'TRUTH_11',\n",
    "          'TRUTH_25',\n",
    "          'TRUTH_26',\n",
    "          'TRUTH_28'\n",
    "         ]\n",
    "\n",
    "members = ['05',\n",
    "           '11',\n",
    "           '24',\n",
    "           '25',\n",
    "           '26',\n",
    "           '28']"
   ]
  },
  {
   "cell_type": "code",
   "execution_count": 7,
   "id": "d539c180-4e88-4c9e-99e7-ac503c7f73fb",
   "metadata": {},
   "outputs": [
    {
     "name": "stdout",
     "output_type": "stream",
     "text": [
      "05\n",
      "11\n",
      "24\n",
      "25\n",
      "26\n",
      "28\n"
     ]
    }
   ],
   "source": [
    "number  =15\n",
    "gridlines = np.linspace(70, 280, 15)\n",
    "gridline = gridlines[int(((len(gridlines)-1)/2)-(number-1)/2) : int(((len(gridlines)-1)/2)+(number-1)/2)+1]\n",
    "gridline = [int(x) for x in gridline]\n",
    "\n",
    "RMSE_MAT = []\n",
    "RMSE_ITD = []\n",
    "RMSE_free= []\n",
    "\n",
    "\n",
    "\n",
    "count = 0 \n",
    "\n",
    "unpredicted = hi['FREE'].hi.sel(ni = gridline).sel(time=slice('2019-04-14','2019-04-16')).mean(dim = ['ni','nj'])\n",
    "\n",
    "\n",
    "for mem in members: \n",
    "    \n",
    "    if mem != '24':\n",
    "        predicted_MAT = hi['MAT_vol_{00}'.format(mem)].hi.sel(ni = gridline).mean(dim=['ni','nj'])\n",
    "#         predicted_ITD = hi['ITD_{00}'.format(mem)].hi.sel(ni = gridline).mean(dim=['ni','nj'])\n",
    "        \n",
    "        target = hi['TRUTH_{00}'.format(mem)].hi.sel(ni = gridline).sel(time=slice('2019-04-14','2019-04-16')).mean(dim=['ni','nj'])\n",
    "        \n",
    "        print(mem)\n",
    "    else:\n",
    "        predicted_MAT = hi['MAT_vol_noerr'].hi.sel(ni = gridline).sel(time=slice('2019-04-14','2019-04-16')).mean(dim=['ni','nj']) #MAT2\n",
    "#         predicted_ITD = hi['ITD_unperturbed'].hi.sel(ni = gridline).mean(dim=['ni','nj']) #ITD10_err15'\n",
    "        \n",
    "        target = hi['TRUTH_24'].hi.sel(ni = gridline).sel(time=slice('2019-04-14','2019-04-16')).mean(dim=['ni','nj'])\n",
    "        print(mem)\n",
    "\n",
    "    \n",
    "    rmse_MAT = xr.ufuncs.sqrt(mean_squared_error(target,  predicted_MAT))\n",
    "#     rmse_ITD = xr.ufuncs.sqrt(mean_squared_error(target,  predicted_ITD))\n",
    "    rmse_free = xr.ufuncs.sqrt(mean_squared_error(target, unpredicted))\n",
    "    \n",
    "    RMSE_MAT.append(rmse_MAT)\n",
    "#     RMSE_ITD.append(rmse_ITD)\n",
    "    RMSE_free.append(rmse_free)"
   ]
  },
  {
   "cell_type": "code",
   "execution_count": 9,
   "id": "2af209d6-780f-46a8-ac18-73e9eccde189",
   "metadata": {},
   "outputs": [
    {
     "data": {
      "image/png": "[encoded data removed]",
      "text/plain": [
       "<Figure size 720x432 with 1 Axes>"
      ]
     },
     "metadata": {
      "needs_background": "light"
     },
     "output_type": "display_data"
    }
   ],
   "source": [
    "date = '15-30 April, 2015'\n",
    "\n",
    "labels = ['05', '11', '24', '25', '26', '28']\n",
    "# men_means = [20, 34, 30, 35, 27]\n",
    "# women_means = [25, 32, 34, 20, 25]\n",
    "mpl.rc('xtick', labelsize=14) \n",
    "mpl.rc('ytick', labelsize=14)\n",
    "\n",
    "x = np.arange(len(labels))  # the label locations\n",
    "width = 0.25  # the width of the bars\n",
    "\n",
    "fig, ax = plt.subplots(figsize = (10,6))\n",
    "rects3 = ax.bar(x - 3*width/3, RMSE_free, width, label='free',color = 'slategray',alpha = 0.3)\n",
    "rects1 = ax.bar(x, RMSE_MAT, width, label='MAT', color = 'navy', alpha = 0.65)\n",
    "# rects2 = ax.bar(x + 3*width/3, RMSE_ITD, width, label='ITD', color = 'skyblue', alpha = 0.5 )\n",
    "\n",
    "# Add some text for labels, title and custom x-axis tick labels, etc.\n",
    "# ax.set_ylabel('Scores')\n",
    "\n",
    "ax.set_title('hi RMSE by random truth', \n",
    "             fontsize = 18, fontweight='bold', loc = 'left')\n",
    "ax.set_title(date, fontsize = 16, loc='right')\n",
    "\n",
    "ax.set_xticks(x)\n",
    "ax.set_xticklabels(labels)\n",
    "ax.legend(fontsize = 14)\n",
    "ax.set_xlabel('ensemble member', fontsize = 16, fontweight='bold', color = 'darkgrey')\n",
    "ax.set_ylabel('RMSE (hi, m)', fontsize = 16, fontweight='bold',color = 'darkgrey')\n",
    "\n",
    "# ax.set_ylim([0, 0.01])\n",
    "# ax.bar_label(rects1, padding=3)\n",
    "# ax.bar_label(rects2, padding=3)\n",
    "\n",
    "fig.tight_layout()\n",
    "\n",
    "plt.show()"
   ]
  },
  {
   "cell_type": "code",
   "execution_count": null,
   "id": "e5d14f67-a4cb-432b-952b-8abecf77ea16",
   "metadata": {},
   "outputs": [],
   "source": []
  }
 ],
 "metadata": {
  "kernelspec": {
   "display_name": "Pangeo (Python 3.6)",
   "language": "python",
   "name": "pangeo-3.6"
  },
  "language_info": {
   "codemirror_mode": {
    "name": "ipython",
    "version": 3
   },
   "file_extension": ".py",
   "mimetype": "text/x-python",
   "name": "python",
   "nbconvert_exporter": "python",
   "pygments_lexer": "ipython3",
   "version": "3.6.7"
  }
 },
 "nbformat": 4,
 "nbformat_minor": 5
}
